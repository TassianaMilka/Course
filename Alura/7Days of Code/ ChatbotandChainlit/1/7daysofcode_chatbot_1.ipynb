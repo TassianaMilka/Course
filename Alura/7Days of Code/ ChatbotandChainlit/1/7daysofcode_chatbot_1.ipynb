
!pip3 install chainlit pyngrok langchain optimum auto-gptq --extra-index-url https://huggingface.github.io/autogptq-index/whl/cu118/ -q
     
